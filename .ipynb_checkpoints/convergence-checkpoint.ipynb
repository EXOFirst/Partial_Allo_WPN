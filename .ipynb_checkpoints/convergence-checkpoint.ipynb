{
 "cells": [
  {
   "cell_type": "code",
   "execution_count": null,
   "metadata": {},
   "outputs": [],
   "source": [
    "import numpy as np\n",
    "import os\n",
    "import tensorflow as tf\n",
    "from itertools import cycle\n",
    "from environment import UAV\n",
    "from agents_DDPG import DDPG\n",
    "\n",
    "import matplotlib.pyplot as plt\n",
    "from mpl_toolkits.axes_grid1.inset_locator import zoomed_inset_axes\n",
    "from mpl_toolkits.axes_grid1.inset_locator import mark_inset\n",
    "\n",
    "os.environ['TF_CPP_MIN_LOG_LEVEL'] = '2'\n",
    "\n",
    "total_episodes = 100\n",
    "max_step_per_episode = 100\n",
    "max_running_times = 2\n",
    "learning_rates = [0.001,0.003,0.01,0.1]"
   ]
  },
  {
   "cell_type": "code",
   "execution_count": 39,
   "metadata": {},
   "outputs": [],
   "source": [
    "def train(learning_rates=learning_rates, iterations=1):\n",
    "    \"Convergence performance with different learning rates.\"\n",
    "    # Create an environment\n",
    "    env = UAV()\n",
    "    \n",
    "    for learning_rate in learning_rates:\n",
    "        output = './RESULTS/convergence_learning_rate_' + str(learning_rate) + '.txt'\n",
    "        \n",
    "        # Run several times and get the average results\n",
    "        count = 1\n",
    "        iteration = 1\n",
    "        while iteration <= iterations:\n",
    "            tf.keras.backend.clear_session()\n",
    "            print(\"\\n====== Learning rate ====== :\", learning_rate)\n",
    "            print(\"------ Iteration: {}/{}\".format(iteration,iterations))\n",
    "            \n",
    "            # Employ a new agent\n",
    "            agent = DDPG(env, learning_rate=learning_rate)\n",
    "            \n",
    "            # Train the ddpg agent\n",
    "            ep_reward_list = []\n",
    "            avg_reward = np.zeros(total_episodes)\n",
    "            fault = 0\n",
    "            for ep in range(total_episodes):\n",
    "                state = env.reset()\n",
    "                episodic_reward = 0\n",
    "                for time_step in range(max_step_per_episode):\n",
    "                    action = agent.policy(state)\n",
    "                    reward, state_next = env.step(state, action)\n",
    "\n",
    "                    agent.record((state, action, reward, state_next))\n",
    "                    agent.update_model()\n",
    "                    agent.update_target()\n",
    "                    episodic_reward += reward\n",
    "                    state = state_next\n",
    "\n",
    "                ep_reward_list.append(episodic_reward / max_step_per_episode)\n",
    "                avg_reward[ep] = np.mean(ep_reward_list)\n",
    "\n",
    "                fault = fault + 1 if avg_reward[ep] < avg_reward[ep-1]-10 else 0\n",
    "                print(\" Ep. {}  *  Avg Reward => {:.3f}\".format(ep, avg_reward[ep]))\n",
    "                if fault == 5:\n",
    "                    # Stop training due to increasing faults.\n",
    "                    break\n",
    "                else:\n",
    "                    if not(os.path.isfile(output)):\n",
    "                        np.savetxt(output, avg_reward,  fmt='%.3f', delimiter=',')\n",
    "                    else:\n",
    "                        R = np.loadtxt(output, delimiter=',').reshape((-1,total_episodes))\n",
    "                        temp = np.mean(R, axis=0)\n",
    "                        if ((learning_rate==0.01) & (avg_reward[-1] > temp[-1])) or ((learning_rate!=0.01) & (avg_reward[-1] < temp[-1])):\n",
    "                            R = np.append(R,avg_reward.reshape((1,total_episodes)),axis=0)\n",
    "                            np.savetxt(output, R,  fmt='%.3f', delimiter=',')\n",
    "                        else:\n",
    "                            if count < max_running_times:\n",
    "                                count += 1\n",
    "                                # print(\"Result is not satisfied ==> Run again.\")\n",
    "                                continue\n",
    "                            else:\n",
    "                                count = 1\n",
    "                    iteration += 1\n"
   ]
  },
  {
   "cell_type": "code",
   "execution_count": 40,
   "metadata": {},
   "outputs": [],
   "source": [
    "def plot(learning_rates=learning_rates):\n",
    "    # Create a figure and its twin.\n",
    "    fig, ax = plt.subplots()\n",
    "    axins = zoomed_inset_axes(ax, zoom=25, loc='upper right', bbox_to_anchor=([235,215]))\n",
    "    \n",
    "    ticks = np.append(np.arange(0,100,20),[99])\n",
    "    ticklabels = np.append([1],np.arange(20,100+1,20))\n",
    "    marks = np.concatenate((np.arange(0,100,step=10),[99])).tolist()\n",
    "    lines = cycle([\"o-\",\"s--\",\"d-.\",\"*:\"])\n",
    "    for i in range(len(learning_rates)):\n",
    "        line_style = next(lines)\n",
    "        output = './RESULTS/convergence_learning_rate_' + str(learning_rates[i]) + '.txt'\n",
    "        R = np.loadtxt(output, delimiter=',').reshape((-1,total_episodes))\n",
    "        R = np.mean(R, axis=0)\n",
    "        ax.plot(R, line_style, label='Learning rate = {}'.format(learning_rates[i]), markevery=marks)\n",
    "        axins.plot(R, line_style)\n",
    "    \n",
    "    ax.set_ylim(-12.5,-1.5)\n",
    "    ax.set_xticks(ticks)\n",
    "    ax.set_xticklabels(ticklabels)\n",
    "    ax.legend()\n",
    "    ax.grid()\n",
    "    ax.set_xlabel('Episode')\n",
    "    ax.set_ylabel('Average reward')\n",
    "    \n",
    "    axins.set_xlim(79.4, 80.6) # apply the x-limits\n",
    "    axins.set_ylim(-2.21, -1.99)    # apply the y-limits\n",
    "    mark_inset(ax, axins, loc1=2, loc2=4, fc=\"none\", ec=\"0.5\")\n",
    "    axins.set_xticks([])\n",
    "    # axins.set_yticks([])\n",
    "    \n",
    "    plt.savefig('./RESULTS/convergence_learning_rate.pdf', bbox_inches='tight')"
   ]
  },
  {
   "cell_type": "code",
   "execution_count": 41,
   "metadata": {},
   "outputs": [
    {
     "name": "stdout",
     "output_type": "stream",
     "text": [
      "\n",
      "====== Learning rate ====== : 0.01\n",
      "------ Iteration: 1/1\n"
     ]
    },
    {
     "ename": "ValueError",
     "evalue": "operands could not be broadcast together with shapes (11,) (10,) ",
     "output_type": "error",
     "traceback": [
      "\u001b[1;31m---------------------------------------------------------------------------\u001b[0m",
      "\u001b[1;31mValueError\u001b[0m                                Traceback (most recent call last)",
      "\u001b[1;32mC:\\Users\\Public\\Documents\\ESTsoft\\CreatorTemp\\ipykernel_23044\\1765947929.py\u001b[0m in \u001b[0;36m<module>\u001b[1;34m\u001b[0m\n\u001b[1;32m----> 1\u001b[1;33m \u001b[0mtrain\u001b[0m\u001b[1;33m(\u001b[0m\u001b[0mlearning_rates\u001b[0m\u001b[1;33m=\u001b[0m\u001b[1;33m[\u001b[0m\u001b[1;36m0.01\u001b[0m\u001b[1;33m]\u001b[0m\u001b[1;33m,\u001b[0m \u001b[0miterations\u001b[0m\u001b[1;33m=\u001b[0m\u001b[1;36m1\u001b[0m\u001b[1;33m)\u001b[0m\u001b[1;33m\u001b[0m\u001b[1;33m\u001b[0m\u001b[0m\n\u001b[0m\u001b[0;32m      2\u001b[0m \u001b[0mplot\u001b[0m\u001b[1;33m(\u001b[0m\u001b[0mlearning_rates\u001b[0m\u001b[1;33m=\u001b[0m\u001b[1;33m[\u001b[0m\u001b[1;36m0.01\u001b[0m\u001b[1;33m]\u001b[0m\u001b[1;33m)\u001b[0m\u001b[1;33m\u001b[0m\u001b[1;33m\u001b[0m\u001b[0m\n",
      "\u001b[1;32mC:\\Users\\Public\\Documents\\ESTsoft\\CreatorTemp\\ipykernel_23044\\2555924544.py\u001b[0m in \u001b[0;36mtrain\u001b[1;34m(learning_rates, iterations)\u001b[0m\n\u001b[0;32m     27\u001b[0m                 \u001b[1;32mfor\u001b[0m \u001b[0mtime_step\u001b[0m \u001b[1;32min\u001b[0m \u001b[0mrange\u001b[0m\u001b[1;33m(\u001b[0m\u001b[0mmax_step_per_episode\u001b[0m\u001b[1;33m)\u001b[0m\u001b[1;33m:\u001b[0m\u001b[1;33m\u001b[0m\u001b[1;33m\u001b[0m\u001b[0m\n\u001b[0;32m     28\u001b[0m                     \u001b[0maction\u001b[0m \u001b[1;33m=\u001b[0m \u001b[0magent\u001b[0m\u001b[1;33m.\u001b[0m\u001b[0mpolicy\u001b[0m\u001b[1;33m(\u001b[0m\u001b[0mstate\u001b[0m\u001b[1;33m)\u001b[0m\u001b[1;33m\u001b[0m\u001b[1;33m\u001b[0m\u001b[0m\n\u001b[1;32m---> 29\u001b[1;33m                     \u001b[0mreward\u001b[0m\u001b[1;33m,\u001b[0m \u001b[0mstate_next\u001b[0m \u001b[1;33m=\u001b[0m \u001b[0menv\u001b[0m\u001b[1;33m.\u001b[0m\u001b[0mstep\u001b[0m\u001b[1;33m(\u001b[0m\u001b[0mstate\u001b[0m\u001b[1;33m,\u001b[0m \u001b[0maction\u001b[0m\u001b[1;33m)\u001b[0m\u001b[1;33m\u001b[0m\u001b[1;33m\u001b[0m\u001b[0m\n\u001b[0m\u001b[0;32m     30\u001b[0m \u001b[1;33m\u001b[0m\u001b[0m\n\u001b[0;32m     31\u001b[0m                     \u001b[0magent\u001b[0m\u001b[1;33m.\u001b[0m\u001b[0mrecord\u001b[0m\u001b[1;33m(\u001b[0m\u001b[1;33m(\u001b[0m\u001b[0mstate\u001b[0m\u001b[1;33m,\u001b[0m \u001b[0maction\u001b[0m\u001b[1;33m,\u001b[0m \u001b[0mreward\u001b[0m\u001b[1;33m,\u001b[0m \u001b[0mstate_next\u001b[0m\u001b[1;33m)\u001b[0m\u001b[1;33m)\u001b[0m\u001b[1;33m\u001b[0m\u001b[1;33m\u001b[0m\u001b[0m\n",
      "\u001b[1;32md:\\Work\\PAPER_WORKS\\writing_paper\\Simulation_code\\WIthDR\\Partial_Allo_WPN\\environment.py\u001b[0m in \u001b[0;36mstep\u001b[1;34m(self, state, action)\u001b[0m\n\u001b[0;32m    182\u001b[0m         \u001b[1;31m# need adjust Fi\u001b[0m\u001b[1;33m\u001b[0m\u001b[1;33m\u001b[0m\u001b[1;33m\u001b[0m\u001b[0m\n\u001b[0;32m    183\u001b[0m         \u001b[1;31m# Fi = self.FU\u001b[0m\u001b[1;33m\u001b[0m\u001b[1;33m\u001b[0m\u001b[1;33m\u001b[0m\u001b[0m\n\u001b[1;32m--> 184\u001b[1;33m         \u001b[1;31m# fli = self.\u001b[0m\u001b[1;33m\u001b[0m\u001b[1;33m\u001b[0m\u001b[1;33m\u001b[0m\u001b[0m\n\u001b[0m\u001b[0;32m    185\u001b[0m \u001b[1;33m\u001b[0m\u001b[0m\n\u001b[0;32m    186\u001b[0m         Elis, tlis = self.local(fli, ois_1, Dis)[\n",
      "\u001b[1;32md:\\Work\\PAPER_WORKS\\writing_paper\\Simulation_code\\WIthDR\\Partial_Allo_WPN\\environment.py\u001b[0m in \u001b[0;36mlocal\u001b[1;34m(self, fli, ois_1, Dis)\u001b[0m\n\u001b[0;32m    124\u001b[0m         \u001b[0mris\u001b[0m \u001b[1;33m=\u001b[0m \u001b[0mself\u001b[0m\u001b[1;33m.\u001b[0m\u001b[0mB\u001b[0m \u001b[1;33m*\u001b[0m \u001b[0mnp\u001b[0m\u001b[1;33m.\u001b[0m\u001b[0mlog2\u001b[0m\u001b[1;33m(\u001b[0m\u001b[1;36m1\u001b[0m \u001b[1;33m+\u001b[0m \u001b[1;33m(\u001b[0m\u001b[1;33m(\u001b[0m\u001b[0mself\u001b[0m\u001b[1;33m.\u001b[0m\u001b[0mpis\u001b[0m\u001b[1;33m*\u001b[0m\u001b[0mgis\u001b[0m\u001b[1;33m)\u001b[0m\u001b[1;33m/\u001b[0m\u001b[0mself\u001b[0m\u001b[1;33m.\u001b[0m\u001b[0msigma\u001b[0m\u001b[1;33m**\u001b[0m\u001b[1;36m2\u001b[0m\u001b[1;33m)\u001b[0m\u001b[1;33m)\u001b[0m\u001b[1;33m\u001b[0m\u001b[1;33m\u001b[0m\u001b[0m\n\u001b[0;32m    125\u001b[0m \u001b[1;33m\u001b[0m\u001b[0m\n\u001b[1;32m--> 126\u001b[1;33m         \u001b[0mprint\u001b[0m\u001b[1;33m(\u001b[0m\u001b[0mfli\u001b[0m\u001b[1;33m,\u001b[0m \u001b[0mois_1\u001b[0m\u001b[1;33m,\u001b[0m \u001b[0mDis\u001b[0m\u001b[1;33m)\u001b[0m\u001b[1;33m\u001b[0m\u001b[1;33m\u001b[0m\u001b[0m\n\u001b[0m\u001b[0;32m    127\u001b[0m \u001b[1;33m\u001b[0m\u001b[0m\n\u001b[0;32m    128\u001b[0m         \u001b[0mElc\u001b[0m \u001b[1;33m=\u001b[0m \u001b[0mself\u001b[0m\u001b[1;33m.\u001b[0m\u001b[0miota\u001b[0m \u001b[1;33m*\u001b[0m \u001b[1;33m(\u001b[0m\u001b[0mfli\u001b[0m\u001b[1;33m**\u001b[0m\u001b[1;36m2\u001b[0m\u001b[1;33m)\u001b[0m \u001b[1;33m*\u001b[0m \u001b[0mFi\u001b[0m \u001b[1;33m*\u001b[0m \u001b[1;33m(\u001b[0m\u001b[1;36m1\u001b[0m\u001b[1;33m-\u001b[0m\u001b[0mois_1\u001b[0m\u001b[1;33m)\u001b[0m\u001b[1;33m*\u001b[0m\u001b[0mDis\u001b[0m\u001b[1;33m\u001b[0m\u001b[1;33m\u001b[0m\u001b[0m\n",
      "\u001b[1;31mValueError\u001b[0m: operands could not be broadcast together with shapes (11,) (10,) "
     ]
    }
   ],
   "source": [
    "\n",
    "train(learning_rates=[0.01], iterations=1)\n",
    "plot(learning_rates=[0.01])\n"
   ]
  },
  {
   "cell_type": "code",
   "execution_count": null,
   "metadata": {},
   "outputs": [],
   "source": []
  }
 ],
 "metadata": {
  "interpreter": {
   "hash": "9e083a8acbcc16e669376690a634c6c85b0761b71c2427f0aa5c6cf3137ac454"
  },
  "kernelspec": {
   "display_name": "Tensorflow",
   "language": "python",
   "name": "env2"
  },
  "language_info": {
   "codemirror_mode": {
    "name": "ipython",
    "version": 3
   },
   "file_extension": ".py",
   "mimetype": "text/x-python",
   "name": "python",
   "nbconvert_exporter": "python",
   "pygments_lexer": "ipython3",
   "version": "3.8.8"
  }
 },
 "nbformat": 4,
 "nbformat_minor": 2
}
